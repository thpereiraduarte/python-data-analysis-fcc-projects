{
 "cells": [
  {
   "cell_type": "markdown",
   "metadata": {},
   "source": [
    "## You will anaylize a dataset of the global average sea level change since 1880. You will use the data to predict the sea level change through year 2050."
   ]
  },
  {
   "cell_type": "markdown",
   "metadata": {},
   "source": [
    "Use the data to complete the following tasks:\n",
    "\n",
    "- Use Pandas to import the data from epa-sea-level.csv.\n",
    "- Use matplotlib to create a scatter plot using the `Year` column as the x-axis and the `CSIRO Adjusted Sea Level` column as the y-axix.\n",
    "- Use the linregress function from scipy.stats to get the slope and y-intercept of the line of best fit. Plot the line of best fit over the top of the scatter plot. Make the line go through the year 2050 to predict the sea level rise in 2050.\n",
    "- Plot a new line of best fit just using the data from year 2000 through the most recent year in the dataset. Make the line also go through the year 2050 to predict the sea level rise in 2050 if the rate of rise continues as it has since the year 2000.\n",
    "- The x label should be `Year`, the y label should be `Sea Level (inches)`, and the title should be `Rise in Sea Level`."
   ]
  },
  {
   "cell_type": "code",
   "execution_count": 1,
   "metadata": {
    "ExecuteTime": {
     "end_time": "2021-10-21T02:24:22.517505Z",
     "start_time": "2021-10-21T02:19:23.149156Z"
    }
   },
   "outputs": [],
   "source": [
    "import pandas as pd\n",
    "import matplotlib.pyplot as plt\n",
    "from scipy.stats import linregress"
   ]
  },
  {
   "cell_type": "code",
   "execution_count": 3,
   "metadata": {
    "ExecuteTime": {
     "end_time": "2021-10-21T02:29:03.707399Z",
     "start_time": "2021-10-21T02:29:03.507960Z"
    }
   },
   "outputs": [
    {
     "data": {
      "image/png": "[encoded data removed]",
      "text/plain": [
       "<Figure size 432x288 with 1 Axes>"
      ]
     },
     "metadata": {
      "needs_background": "light"
     },
     "output_type": "display_data"
    }
   ],
   "source": [
    "def draw_plot():\n",
    "    # Read data from file\n",
    "    df = pd.read_csv('epa-sea-level.csv')\n",
    "\n",
    "    # Create scatter plot\n",
    "    x = df['Year']\n",
    "    y = df['CSIRO Adjusted Sea Level']\n",
    "\n",
    "    fig, ax = plt.subplots()\n",
    "    plt.scatter(x, y)\n",
    "\n",
    "    # Create first line of best fit\n",
    "    r = linregress(x, y)\n",
    "    x_pred = pd.Series([i for i in range (1880, 2051)])\n",
    "    y_pred = r.slope*x_pred + r.intercept\n",
    "    plt.plot(x_pred, y_pred, 'red')\n",
    "\n",
    "    # Create second line of best fit\n",
    "    df2 = df.loc[df['Year'] >= 2000]\n",
    "    x2 = df2['Year']\n",
    "    y2 = df2['CSIRO Adjusted Sea Level']\n",
    "    r2 = linregress(x2, y2)\n",
    "    x_pred2 = pd.Series([i for i in range (2000, 2051)])\n",
    "    y_pred2 = r2.slope*x_pred2 + r2.intercept\n",
    "    plt.plot(x_pred2, y_pred2, 'green')\n",
    " \n",
    "    # Add labels and title\n",
    "    ax.set_xlabel('Year')\n",
    "    ax.set_ylabel('Sea Level (inches)')\n",
    "    ax.set_title('Rise in Sea Level')\n",
    "\n",
    "draw_plot()"
   ]
  }
 ],
 "metadata": {
  "kernelspec": {
   "display_name": "Python 3",
   "language": "python",
   "name": "python3"
  },
  "language_info": {
   "codemirror_mode": {
    "name": "ipython",
    "version": 3
   },
   "file_extension": ".py",
   "mimetype": "text/x-python",
   "name": "python",
   "nbconvert_exporter": "python",
   "pygments_lexer": "ipython3",
   "version": "3.8.5"
  },
  "varInspector": {
   "cols": {
    "lenName": 16,
    "lenType": 16,
    "lenVar": 40
   },
   "kernels_config": {
    "python": {
     "delete_cmd_postfix": "",
     "delete_cmd_prefix": "del ",
     "library": "var_list.py",
     "varRefreshCmd": "print(var_dic_list())"
    },
    "r": {
     "delete_cmd_postfix": ") ",
     "delete_cmd_prefix": "rm(",
     "library": "var_list.r",
     "varRefreshCmd": "cat(var_dic_list()) "
    }
   },
   "types_to_exclude": [
    "module",
    "function",
    "builtin_function_or_method",
    "instance",
    "_Feature"
   ],
   "window_display": false
  }
 },
 "nbformat": 4,
 "nbformat_minor": 4
}
